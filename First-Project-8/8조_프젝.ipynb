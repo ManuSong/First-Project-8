{
 "cells": [
  {
   "cell_type": "markdown",
   "id": "37345a68",
   "metadata": {},
   "source": [
    "# 철강데이터 분석\n",
    "- PLATE_NO              플렌트 고유 ID\n",
    "- ROLLING_DATE          제작일자\n",
    "- SCALE                 양품/불량\n",
    "- SPEC                  SPEC\n",
    "- STEEL_KIND            종류\n",
    "- PT_THK                두께\n",
    "- PT_WDTH               너비\n",
    "- PT_LTH                길이\n",
    "- PT_WGT                무게\n",
    "- FUR_NO                생산시설 NO\n",
    "- FUR_NO_ROW            생산시설 ROW\n",
    "- FUR_HZ_TEMP           가열로_HZ가열로_온도\n",
    "- FUR_HZ_TIME           가열로_HZ가열로_시간\n",
    "- FUR_SZ_TEMP           가열로_SZ가열로_온도\n",
    "- FUR_SZ_TIME           가열로_SZ가열로_시간\n",
    "- FUR_TIME              가열로_내부에 있었던 시간\n",
    "- FUR_EXTEMP            가열로_추출온도\n",
    "- ROLLING_TEMP_T5       롤링_온도\n",
    "- HSB                   HSB 적용여부\n",
    "- ROLLING_DESCALING     ROLLING_DESCALING 작업 횟수\n",
    "- WORK_GR               작업그룹"
   ]
  },
  {
   "cell_type": "code",
   "execution_count": 2,
   "id": "8fb721fc",
   "metadata": {},
   "outputs": [],
   "source": [
    "import pandas as pd\n",
    "# 파이썬 시각화 패키지 불러오기\n",
    "import matplotlib.pyplot as plt\n",
    "import seaborn as sns\n",
    "%matplotlib inline\n",
    "import platform\n",
    "# 운영체제별 한글 폰트 설정\n",
    "\n",
    "if platform.system() == 'Darwin': # Mac 환경 폰트 설정\n",
    "    plt.rc('font', family='AppleGothic')\n",
    "elif platform.system() == 'Windows': # Windows 환경 폰트 설정\n",
    "    plt.rc('font', family='Malgun Gothic')\n",
    "plt.rc('axes', unicode_minus=False) # 마이너스 폰트 설정\n",
    "# 글씨 선명하게 출력하는 설정\n",
    "%config InlineBackend.figure_format = 'retina'"
   ]
  },
  {
   "cell_type": "code",
   "execution_count": 3,
   "id": "15e8bca2",
   "metadata": {},
   "outputs": [
    {
     "data": {
      "text/html": [
       "<div>\n",
       "<style scoped>\n",
       "    .dataframe tbody tr th:only-of-type {\n",
       "        vertical-align: middle;\n",
       "    }\n",
       "\n",
       "    .dataframe tbody tr th {\n",
       "        vertical-align: top;\n",
       "    }\n",
       "\n",
       "    .dataframe thead th {\n",
       "        text-align: right;\n",
       "    }\n",
       "</style>\n",
       "<table border=\"1\" class=\"dataframe\">\n",
       "  <thead>\n",
       "    <tr style=\"text-align: right;\">\n",
       "      <th></th>\n",
       "      <th>ROLLING_DATE</th>\n",
       "      <th>SCALE</th>\n",
       "      <th>SPEC</th>\n",
       "      <th>STEEL_KIND</th>\n",
       "      <th>PT_THK</th>\n",
       "      <th>PT_WDTH</th>\n",
       "      <th>PT_LTH</th>\n",
       "      <th>PT_WGT</th>\n",
       "      <th>FUR_NO</th>\n",
       "      <th>FUR_NO_ROW</th>\n",
       "      <th>...</th>\n",
       "      <th>FUR_SZ_TIME</th>\n",
       "      <th>FUR_TIME</th>\n",
       "      <th>FUR_EXTEMP</th>\n",
       "      <th>ROLLING_TEMP_T5</th>\n",
       "      <th>HSB</th>\n",
       "      <th>ROLLING_DESCALING</th>\n",
       "      <th>WORK_GR</th>\n",
       "      <th>Year</th>\n",
       "      <th>Hour</th>\n",
       "      <th>SPEC_SIZE</th>\n",
       "    </tr>\n",
       "  </thead>\n",
       "  <tbody>\n",
       "    <tr>\n",
       "      <th>0</th>\n",
       "      <td>2008-08-01:00:00:15</td>\n",
       "      <td>1</td>\n",
       "      <td>AB/EH32-TM</td>\n",
       "      <td>T1</td>\n",
       "      <td>32.25</td>\n",
       "      <td>3707</td>\n",
       "      <td>15109</td>\n",
       "      <td>14180</td>\n",
       "      <td>1호기</td>\n",
       "      <td>1</td>\n",
       "      <td>...</td>\n",
       "      <td>59</td>\n",
       "      <td>282</td>\n",
       "      <td>1133</td>\n",
       "      <td>934</td>\n",
       "      <td>1</td>\n",
       "      <td>8</td>\n",
       "      <td>2조</td>\n",
       "      <td>2008-08-01</td>\n",
       "      <td>새벽</td>\n",
       "      <td>AB/EH32</td>\n",
       "    </tr>\n",
       "    <tr>\n",
       "      <th>1</th>\n",
       "      <td>2008-08-01:00:00:16</td>\n",
       "      <td>1</td>\n",
       "      <td>AB/EH32-TM</td>\n",
       "      <td>T1</td>\n",
       "      <td>32.25</td>\n",
       "      <td>3707</td>\n",
       "      <td>15109</td>\n",
       "      <td>14180</td>\n",
       "      <td>1호기</td>\n",
       "      <td>2</td>\n",
       "      <td>...</td>\n",
       "      <td>53</td>\n",
       "      <td>283</td>\n",
       "      <td>1135</td>\n",
       "      <td>937</td>\n",
       "      <td>1</td>\n",
       "      <td>8</td>\n",
       "      <td>2조</td>\n",
       "      <td>2008-08-01</td>\n",
       "      <td>새벽</td>\n",
       "      <td>AB/EH32</td>\n",
       "    </tr>\n",
       "    <tr>\n",
       "      <th>2</th>\n",
       "      <td>2008-08-01:00:00:59</td>\n",
       "      <td>1</td>\n",
       "      <td>NV-E36-TM</td>\n",
       "      <td>T8</td>\n",
       "      <td>33.27</td>\n",
       "      <td>3619</td>\n",
       "      <td>19181</td>\n",
       "      <td>18130</td>\n",
       "      <td>2호기</td>\n",
       "      <td>1</td>\n",
       "      <td>...</td>\n",
       "      <td>55</td>\n",
       "      <td>282</td>\n",
       "      <td>1121</td>\n",
       "      <td>889</td>\n",
       "      <td>1</td>\n",
       "      <td>8</td>\n",
       "      <td>3조</td>\n",
       "      <td>2008-08-01</td>\n",
       "      <td>새벽</td>\n",
       "      <td>NV</td>\n",
       "    </tr>\n",
       "    <tr>\n",
       "      <th>3</th>\n",
       "      <td>2008-08-01:00:01:24</td>\n",
       "      <td>1</td>\n",
       "      <td>NV-E36-TM</td>\n",
       "      <td>T8</td>\n",
       "      <td>33.27</td>\n",
       "      <td>3619</td>\n",
       "      <td>19181</td>\n",
       "      <td>18130</td>\n",
       "      <td>2호기</td>\n",
       "      <td>2</td>\n",
       "      <td>...</td>\n",
       "      <td>68</td>\n",
       "      <td>316</td>\n",
       "      <td>1127</td>\n",
       "      <td>885</td>\n",
       "      <td>1</td>\n",
       "      <td>8</td>\n",
       "      <td>3조</td>\n",
       "      <td>2008-08-01</td>\n",
       "      <td>새벽</td>\n",
       "      <td>NV</td>\n",
       "    </tr>\n",
       "    <tr>\n",
       "      <th>4</th>\n",
       "      <td>2008-08-01:00:01:44</td>\n",
       "      <td>1</td>\n",
       "      <td>BV-EH36-TM</td>\n",
       "      <td>T8</td>\n",
       "      <td>38.33</td>\n",
       "      <td>3098</td>\n",
       "      <td>13334</td>\n",
       "      <td>12430</td>\n",
       "      <td>3호기</td>\n",
       "      <td>1</td>\n",
       "      <td>...</td>\n",
       "      <td>48</td>\n",
       "      <td>314</td>\n",
       "      <td>1128</td>\n",
       "      <td>873</td>\n",
       "      <td>1</td>\n",
       "      <td>8</td>\n",
       "      <td>1조</td>\n",
       "      <td>2008-08-01</td>\n",
       "      <td>새벽</td>\n",
       "      <td>BV</td>\n",
       "    </tr>\n",
       "  </tbody>\n",
       "</table>\n",
       "<p>5 rows × 23 columns</p>\n",
       "</div>"
      ],
      "text/plain": [
       "          ROLLING_DATE  SCALE        SPEC STEEL_KIND  PT_THK  PT_WDTH  PT_LTH  \\\n",
       "0  2008-08-01:00:00:15      1  AB/EH32-TM         T1   32.25     3707   15109   \n",
       "1  2008-08-01:00:00:16      1  AB/EH32-TM         T1   32.25     3707   15109   \n",
       "2  2008-08-01:00:00:59      1   NV-E36-TM         T8   33.27     3619   19181   \n",
       "3  2008-08-01:00:01:24      1   NV-E36-TM         T8   33.27     3619   19181   \n",
       "4  2008-08-01:00:01:44      1  BV-EH36-TM         T8   38.33     3098   13334   \n",
       "\n",
       "   PT_WGT FUR_NO  FUR_NO_ROW  ...  FUR_SZ_TIME  FUR_TIME  FUR_EXTEMP  \\\n",
       "0   14180    1호기           1  ...           59       282        1133   \n",
       "1   14180    1호기           2  ...           53       283        1135   \n",
       "2   18130    2호기           1  ...           55       282        1121   \n",
       "3   18130    2호기           2  ...           68       316        1127   \n",
       "4   12430    3호기           1  ...           48       314        1128   \n",
       "\n",
       "   ROLLING_TEMP_T5  HSB  ROLLING_DESCALING  WORK_GR        Year  Hour  \\\n",
       "0              934    1                  8       2조  2008-08-01    새벽   \n",
       "1              937    1                  8       2조  2008-08-01    새벽   \n",
       "2              889    1                  8       3조  2008-08-01    새벽   \n",
       "3              885    1                  8       3조  2008-08-01    새벽   \n",
       "4              873    1                  8       1조  2008-08-01    새벽   \n",
       "\n",
       "  SPEC_SIZE  \n",
       "0   AB/EH32  \n",
       "1   AB/EH32  \n",
       "2        NV  \n",
       "3        NV  \n",
       "4        BV  \n",
       "\n",
       "[5 rows x 23 columns]"
      ]
     },
     "execution_count": 3,
     "metadata": {},
     "output_type": "execute_result"
    }
   ],
   "source": [
    "df = pd.read_csv('eda_data.csv')\n",
    "df = df.drop([\"Unnamed: 0\"], axis = 1)\n",
    "df.head()"
   ]
  },
  {
   "cell_type": "markdown",
   "id": "3b1271df",
   "metadata": {},
   "source": [
    "## 불량률 분석\n",
    "- 0 : 불량\n",
    "- 1 : 양품"
   ]
  },
  {
   "cell_type": "code",
   "execution_count": 4,
   "id": "1f79fd5e",
   "metadata": {},
   "outputs": [
    {
     "data": {
      "text/plain": [
       "Text(0.5, 1.0, 'Count plot - 불량률')"
      ]
     },
     "execution_count": 4,
     "metadata": {},
     "output_type": "execute_result"
    },
    {
     "data": {
      "image/png": "[encoded data removed]",
      "text/plain": [
       "<Figure size 1080x576 with 2 Axes>"
      ]
     },
     "metadata": {
      "image/png": {
       "height": 497,
       "width": 851
      },
      "needs_background": "light"
     },
     "output_type": "display_data"
    }
   ],
   "source": [
    "fig, ax = plt.subplots(1, 2, figsize=(15, 8))\n",
    "\n",
    "df['SCALE'].value_counts().plot.pie(explode=[0, 0.1], autopct='%1.1f%%', ax = ax[0], shadow=True)\n",
    "ax[0].set_title('Pie plot - 불량률')\n",
    "ax[0].set_ylabel('')\n",
    "sns.countplot( data=df, x = 'SCALE', ax=ax[1])\n",
    "ax[1].set_title('Count plot - 불량률')"
   ]
  },
  {
   "cell_type": "markdown",
   "id": "27a9e3f1",
   "metadata": {},
   "source": [
    "## 호기별 생산 시각화"
   ]
  },
  {
   "cell_type": "code",
   "execution_count": 5,
   "id": "004a4c50",
   "metadata": {},
   "outputs": [],
   "source": [
    "# 호기별 슬레이싱\n",
    "FN_1 = df[df.copy().loc[:,'FUR_NO'] == '1호기'] # 1호기\n",
    "FN_2 = df[df.copy().loc[:,'FUR_NO'] == '2호기'] # 2호기\n",
    "FN_3 = df[df.copy().loc[:,'FUR_NO'] == '3호기'] # 3호기\n",
    "\n",
    "# 호기별 불량 슬레이싱\n",
    "FN_1_B = FN_1[FN_1['SCALE'] == 0] # 1호기\n",
    "FN_2_B = FN_2[FN_2['SCALE'] == 0] # 2호기\n",
    "FN_3_B = FN_3[FN_3['SCALE'] == 0] # 3호기\n",
    "\n",
    "# 1호기 불량/양품/총 별 Groupby\n",
    "FN_1_GS = FN_1.groupby(['FUR_NO', 'FUR_NO_ROW'], as_index = False).agg(Good_count = ('SCALE', 'sum')) # 양품\n",
    "FN_1_BS = FN_1_B.groupby(['FUR_NO', 'FUR_NO_ROW'], as_index = False).agg(Bad_count = ('SCALE', 'count')) # 불량\n",
    "FN_1_TS = FN_1.groupby(['FUR_NO', 'FUR_NO_ROW'], as_index = False).agg(Total_count = ('SCALE', 'count')) # 총량\n",
    "\n",
    "# 2호기 불량/양품/총 별 Groupby\n",
    "FN_2_GS = FN_2.groupby(['FUR_NO', 'FUR_NO_ROW'], as_index = False).agg(Good_count = ('SCALE', 'sum')) # 양품\n",
    "FN_2_BS = FN_2_B.groupby(['FUR_NO', 'FUR_NO_ROW'], as_index = False).agg(Bad_count = ('SCALE', 'count')) # 불량\n",
    "FN_2_TS = FN_2.groupby(['FUR_NO', 'FUR_NO_ROW'], as_index = False).agg(Total_count = ('SCALE', 'count')) # 총량\n",
    "\n",
    "# 3호기 불량/양품/총 별 Groupby\n",
    "FN_3_GS = FN_3.groupby(['FUR_NO', 'FUR_NO_ROW'], as_index = False).agg(Good_count = ('SCALE', 'sum')) # 양품\n",
    "FN_3_BS = FN_3_B.groupby(['FUR_NO', 'FUR_NO_ROW'], as_index = False).agg(Bad_count = ('SCALE', 'count')) # 불량\n",
    "FN_3_TS = FN_3.groupby(['FUR_NO', 'FUR_NO_ROW'], as_index = False).agg(Total_count = ('SCALE', 'count')) # 총량\n",
    "\n",
    "# 1호기 종합\n",
    "FN_1_SC = FN_1_BS.merge(FN_1_GS, on = ['FUR_NO', 'FUR_NO_ROW'])\n",
    "FN_1_SC = FN_1_SC.merge(FN_1_TS, on = ['FUR_NO', 'FUR_NO_ROW'])\n",
    "\n",
    "# 2호기 종합\n",
    "FN_2_SC = FN_2_BS.merge(FN_2_GS, on = ['FUR_NO', 'FUR_NO_ROW'])\n",
    "FN_2_SC = FN_2_SC.merge(FN_2_TS, on = ['FUR_NO', 'FUR_NO_ROW'])\n",
    "\n",
    "# 3호기 종합\n",
    "FN_3_SC = FN_3_BS.merge(FN_3_GS, on = ['FUR_NO', 'FUR_NO_ROW'])\n",
    "FN_3_SC = FN_3_SC.merge(FN_3_TS, on = ['FUR_NO', 'FUR_NO_ROW'])\n",
    "\n",
    "# 총 종합\n",
    "FN_SC = pd.concat([FN_1_SC, FN_2_SC, FN_3_SC])"
   ]
  },
  {
   "cell_type": "code",
   "execution_count": 6,
   "id": "2ba9e127",
   "metadata": {},
   "outputs": [
    {
     "data": {
      "image/png": "[encoded data removed]",
      "text/plain": [
       "<Figure size 432x288 with 1 Axes>"
      ]
     },
     "metadata": {
      "image/png": {
       "height": 263,
       "width": 381
      },
      "needs_background": "light"
     },
     "output_type": "display_data"
    }
   ],
   "source": [
    "# 호기별 불량 생산 시각화\n",
    "\n",
    "graph_FN_SC_B = sns.barplot(data = FN_SC, x= 'FUR_NO', y = 'Bad_count', hue = 'FUR_NO_ROW')"
   ]
  },
  {
   "cell_type": "markdown",
   "id": "e26e04d0",
   "metadata": {},
   "source": [
    "## 철강 종류별 불량률"
   ]
  },
  {
   "cell_type": "code",
   "execution_count": 7,
   "id": "3967bf3d",
   "metadata": {},
   "outputs": [
    {
     "data": {
      "text/html": [
       "<div>\n",
       "<style scoped>\n",
       "    .dataframe tbody tr th:only-of-type {\n",
       "        vertical-align: middle;\n",
       "    }\n",
       "\n",
       "    .dataframe tbody tr th {\n",
       "        vertical-align: top;\n",
       "    }\n",
       "\n",
       "    .dataframe thead th {\n",
       "        text-align: right;\n",
       "    }\n",
       "</style>\n",
       "<table border=\"1\" class=\"dataframe\">\n",
       "  <thead>\n",
       "    <tr style=\"text-align: right;\">\n",
       "      <th></th>\n",
       "      <th>STEEL_KIND</th>\n",
       "      <th>양품퍼센트</th>\n",
       "    </tr>\n",
       "  </thead>\n",
       "  <tbody>\n",
       "    <tr>\n",
       "      <th>0</th>\n",
       "      <td>C0</td>\n",
       "      <td>503</td>\n",
       "    </tr>\n",
       "    <tr>\n",
       "      <th>1</th>\n",
       "      <td>C1</td>\n",
       "      <td>1</td>\n",
       "    </tr>\n",
       "    <tr>\n",
       "      <th>2</th>\n",
       "      <td>C3</td>\n",
       "      <td>7</td>\n",
       "    </tr>\n",
       "    <tr>\n",
       "      <th>3</th>\n",
       "      <td>T0</td>\n",
       "      <td>16</td>\n",
       "    </tr>\n",
       "    <tr>\n",
       "      <th>4</th>\n",
       "      <td>T1</td>\n",
       "      <td>18</td>\n",
       "    </tr>\n",
       "    <tr>\n",
       "      <th>5</th>\n",
       "      <td>T3</td>\n",
       "      <td>2</td>\n",
       "    </tr>\n",
       "    <tr>\n",
       "      <th>6</th>\n",
       "      <td>T5</td>\n",
       "      <td>43</td>\n",
       "    </tr>\n",
       "    <tr>\n",
       "      <th>7</th>\n",
       "      <td>T7</td>\n",
       "      <td>35</td>\n",
       "    </tr>\n",
       "    <tr>\n",
       "      <th>8</th>\n",
       "      <td>T8</td>\n",
       "      <td>95</td>\n",
       "    </tr>\n",
       "  </tbody>\n",
       "</table>\n",
       "</div>"
      ],
      "text/plain": [
       "  STEEL_KIND  양품퍼센트\n",
       "0         C0    503\n",
       "1         C1      1\n",
       "2         C3      7\n",
       "3         T0     16\n",
       "4         T1     18\n",
       "5         T3      2\n",
       "6         T5     43\n",
       "7         T7     35\n",
       "8         T8     95"
      ]
     },
     "execution_count": 7,
     "metadata": {},
     "output_type": "execute_result"
    }
   ],
   "source": [
    "steel_scale = df.groupby('STEEL_KIND').agg(양품정도 = ('SCALE', 'sum')).reset_index()\n",
    "steel_total_scale = df.groupby('STEEL_KIND').agg(양품퍼센트 = ('SCALE', 'count')).reset_index()\n",
    "steel_total_scale"
   ]
  },
  {
   "cell_type": "code",
   "execution_count": 8,
   "id": "6747e391",
   "metadata": {},
   "outputs": [
    {
     "data": {
      "text/plain": [
       "Text(0.5, 1.0, '철강 죵류에 따른 양품정도')"
      ]
     },
     "execution_count": 8,
     "metadata": {},
     "output_type": "execute_result"
    },
    {
     "data": {
      "image/png": "[encoded data removed]",
      "text/plain": [
       "<Figure size 432x288 with 1 Axes>"
      ]
     },
     "metadata": {
      "image/png": {
       "height": 279,
       "width": 387
      },
      "needs_background": "light"
     },
     "output_type": "display_data"
    }
   ],
   "source": [
    "fig = plt.subplot()\n",
    "sns.barplot(data = steel_scale, x = 'STEEL_KIND', y = '양품정도')\n",
    "fig.set_title('철강 죵류에 따른 양품정도')\n",
    "# C0가 압도적으로 양품이 많다. 양품이 많지만 불량률이 중요한 것 같기에 불량률 계산"
   ]
  },
  {
   "cell_type": "code",
   "execution_count": 9,
   "id": "815eb401",
   "metadata": {},
   "outputs": [
    {
     "data": {
      "text/html": [
       "<div>\n",
       "<style scoped>\n",
       "    .dataframe tbody tr th:only-of-type {\n",
       "        vertical-align: middle;\n",
       "    }\n",
       "\n",
       "    .dataframe tbody tr th {\n",
       "        vertical-align: top;\n",
       "    }\n",
       "\n",
       "    .dataframe thead th {\n",
       "        text-align: right;\n",
       "    }\n",
       "</style>\n",
       "<table border=\"1\" class=\"dataframe\">\n",
       "  <thead>\n",
       "    <tr style=\"text-align: right;\">\n",
       "      <th></th>\n",
       "      <th>STEEL_KIND</th>\n",
       "      <th>양품정도</th>\n",
       "      <th>양품퍼센트</th>\n",
       "    </tr>\n",
       "  </thead>\n",
       "  <tbody>\n",
       "    <tr>\n",
       "      <th>0</th>\n",
       "      <td>C0</td>\n",
       "      <td>291</td>\n",
       "      <td>57.852883</td>\n",
       "    </tr>\n",
       "    <tr>\n",
       "      <th>1</th>\n",
       "      <td>C1</td>\n",
       "      <td>0</td>\n",
       "      <td>0.000000</td>\n",
       "    </tr>\n",
       "    <tr>\n",
       "      <th>2</th>\n",
       "      <td>C3</td>\n",
       "      <td>6</td>\n",
       "      <td>85.714286</td>\n",
       "    </tr>\n",
       "    <tr>\n",
       "      <th>3</th>\n",
       "      <td>T0</td>\n",
       "      <td>14</td>\n",
       "      <td>87.500000</td>\n",
       "    </tr>\n",
       "    <tr>\n",
       "      <th>4</th>\n",
       "      <td>T1</td>\n",
       "      <td>16</td>\n",
       "      <td>88.888889</td>\n",
       "    </tr>\n",
       "    <tr>\n",
       "      <th>5</th>\n",
       "      <td>T3</td>\n",
       "      <td>2</td>\n",
       "      <td>100.000000</td>\n",
       "    </tr>\n",
       "    <tr>\n",
       "      <th>6</th>\n",
       "      <td>T5</td>\n",
       "      <td>41</td>\n",
       "      <td>95.348837</td>\n",
       "    </tr>\n",
       "    <tr>\n",
       "      <th>7</th>\n",
       "      <td>T7</td>\n",
       "      <td>29</td>\n",
       "      <td>82.857143</td>\n",
       "    </tr>\n",
       "    <tr>\n",
       "      <th>8</th>\n",
       "      <td>T8</td>\n",
       "      <td>90</td>\n",
       "      <td>94.736842</td>\n",
       "    </tr>\n",
       "  </tbody>\n",
       "</table>\n",
       "</div>"
      ],
      "text/plain": [
       "  STEEL_KIND  양품정도       양품퍼센트\n",
       "0         C0   291   57.852883\n",
       "1         C1     0    0.000000\n",
       "2         C3     6   85.714286\n",
       "3         T0    14   87.500000\n",
       "4         T1    16   88.888889\n",
       "5         T3     2  100.000000\n",
       "6         T5    41   95.348837\n",
       "7         T7    29   82.857143\n",
       "8         T8    90   94.736842"
      ]
     },
     "execution_count": 9,
     "metadata": {},
     "output_type": "execute_result"
    }
   ],
   "source": [
    "steel_scale['양품퍼센트'] = steel_scale['양품정도'] / steel_total_scale['양품퍼센트'] * 100\n",
    "steel_scale"
   ]
  },
  {
   "cell_type": "code",
   "execution_count": 10,
   "id": "d34c90a3",
   "metadata": {},
   "outputs": [
    {
     "data": {
      "text/plain": [
       "Text(0.5, 1.0, '철강 종류에 따른 양품확률')"
      ]
     },
     "execution_count": 10,
     "metadata": {},
     "output_type": "execute_result"
    },
    {
     "data": {
      "image/png": "[encoded data removed]",
      "text/plain": [
       "<Figure size 432x288 with 1 Axes>"
      ]
     },
     "metadata": {
      "image/png": {
       "height": 279,
       "width": 387
      },
      "needs_background": "light"
     },
     "output_type": "display_data"
    }
   ],
   "source": [
    "fig = plt.subplot()\n",
    "sns.barplot(data = steel_scale, x = 'STEEL_KIND', y = '양품퍼센트')\n",
    "\n",
    "fig.set_title('철강 종류에 따른 양품확률')\n",
    "\n",
    "# 개수로는 양품이 C0 이많았지만, 결과적으로는 양품이 나오는 확률이 적다.\n",
    "# 오히려 T3, T5, T8가 양품이 개수가 많지 않지만."
   ]
  },
  {
   "cell_type": "markdown",
   "id": "3906f9bd",
   "metadata": {},
   "source": [
    "## PT 길이, 폭, 두께, 무게에 따른 불량값"
   ]
  },
  {
   "cell_type": "code",
   "execution_count": 11,
   "id": "500ea753",
   "metadata": {},
   "outputs": [],
   "source": [
    "scale_PT = df.groupby('SCALE').agg(\n",
    "    THK_MEAN = ('PT_THK', 'mean'),\n",
    "    WDTH_MEAN = ('PT_WDTH', 'mean'),\n",
    "    LTH_MEAN = ('PT_LTH', 'mean'),\n",
    "    WGT_MEAN = ('PT_WGT', 'mean')\n",
    "                       ).reset_index()"
   ]
  },
  {
   "cell_type": "code",
   "execution_count": 12,
   "id": "35ff2af8",
   "metadata": {},
   "outputs": [
    {
     "data": {
      "text/plain": [
       "Text(0.5, 1.0, '무게 평균 별 불량 수')"
      ]
     },
     "execution_count": 12,
     "metadata": {},
     "output_type": "execute_result"
    },
    {
     "data": {
      "image/png": "[encoded data removed]",
      "text/plain": [
       "<Figure size 864x576 with 4 Axes>"
      ]
     },
     "metadata": {
      "image/png": {
       "height": 496,
       "width": 732
      },
      "needs_background": "light"
     },
     "output_type": "display_data"
    }
   ],
   "source": [
    "fig, ax = plt.subplots(2, 2,  figsize=(12, 8))\n",
    "\n",
    "sns.barplot(data = scale_PT, x = 'SCALE', y = 'THK_MEAN', ax = ax[0][0])\n",
    "ax[0][0].set_title(\"두께 평균 별 불량 수\")\n",
    "\n",
    "sns.barplot(data = scale_PT, x = 'SCALE', y = 'WDTH_MEAN', ax = ax[0][1])\n",
    "ax[0][1].set_title(\"폭 평균 별 불량 수\")\n",
    "\n",
    "sns.barplot(data = scale_PT, x = 'SCALE', y = 'LTH_MEAN', ax = ax[1][0])\n",
    "ax[1][0].set_title(\"길이 평균 별 불량 수\")\n",
    "\n",
    "sns.barplot(data = scale_PT, x = 'SCALE', y = 'WGT_MEAN', ax = ax[1][1])\n",
    "ax[1][1].set_title('무게 평균 별 불량 수') "
   ]
  },
  {
   "cell_type": "markdown",
   "id": "aef85d7e",
   "metadata": {},
   "source": [
    "## 작업횟수에 따른 불량률"
   ]
  },
  {
   "cell_type": "code",
   "execution_count": 13,
   "id": "43bbc868",
   "metadata": {},
   "outputs": [
    {
     "data": {
      "image/png": "[encoded data removed]",
      "text/plain": [
       "<Figure size 432x288 with 1 Axes>"
      ]
     },
     "metadata": {
      "image/png": {
       "height": 263,
       "width": 387
      },
      "needs_background": "light"
     },
     "output_type": "display_data"
    }
   ],
   "source": [
    "# SCALE별 슬레이싱\n",
    "SC_1 = df[df.copy().loc[:,'SCALE'] == 1] # 양품\n",
    "SC_0 = df[df.copy().loc[:,'SCALE'] == 0] # 불량\n",
    "# SCLAE, ROLLING_DESCALING gruoby\n",
    "SC_1_RD = SC_1.groupby(['ROLLING_DESCALING'], as_index = False).agg(Good_count = ('SCALE', 'sum')) # 양품\n",
    "SC_0_RD = SC_0.groupby(['ROLLING_DESCALING'], as_index = False).agg(Bad_count = ('SCALE', 'count')) # 불량\n",
    "\n",
    "# ROLLING_DESCALING별 불량 생산 시각화\n",
    "graph_SC_0_RD = sns.barplot(data = SC_0_RD, x= 'ROLLING_DESCALING', y = 'Bad_count')"
   ]
  },
  {
   "cell_type": "code",
   "execution_count": 17,
   "id": "4486fdd9",
   "metadata": {},
   "outputs": [],
   "source": [
    "# C0와 C0 제외 DataFrame 만들기\n",
    "c0 = pd.DataFrame(df[df['STEEL_KIND'] == 'C0'])\n",
    "c0_except = pd.DataFrame(df[df['STEEL_KIND'] != 'C0'])\n",
    "# C0 X, Y 값을 나누기\n",
    "c0_X = pd.DataFrame(df[df['STEEL_KIND'] == 'C0'].drop(['SCALE', 'ROLLING_DATE', 'SPEC', 'STEEL_KIND', \n",
    "                                                       'FUR_NO', 'WORK_GR', 'Year', 'SPEC_SIZE'], axis= 1))\n",
    "c0_Y = pd.DataFrame(c0['SCALE'])\n",
    "# C0 제외 한 X, Y 값을 나누기\n",
    "c0_except_X = pd.DataFrame(c0_except.drop(['SCALE', 'ROLLING_DATE', 'SPEC', 'STEEL_KIND', \n",
    "                                           'FUR_NO', 'WORK_GR', 'Year', 'SPEC_SIZE'], axis= 1))\n",
    "c0_except_Y = pd.DataFrame(c0_except['SCALE'])\n",
    "# total의 X,Y 값을 나누기\n",
    "X = pd.DataFrame(df.drop(['SCALE', 'ROLLING_DATE', 'SPEC', 'STEEL_KIND', \n",
    "                          'FUR_NO', 'WORK_GR', 'Year', 'SPEC_SIZE'], axis= 1))\n",
    "Y = pd.DataFrame(df['SCALE'])\n",
    "\n",
    "def change_hour(hour):\n",
    "    if hour == \"새벽\":\n",
    "        return 0\n",
    "    elif hour == \"오전\":\n",
    "        return 1\n",
    "    elif hour == \"오후\":\n",
    "        return 2\n",
    "    else:\n",
    "        return 3\n",
    "df[\"Hour\"] = df['Hour'].apply(change_hour)\n",
    "# 새벽 : 0\n",
    "# 오전 : 1\n",
    "# 오후 : 2\n",
    "# 저녁 : 3"
   ]
  },
  {
   "cell_type": "code",
   "execution_count": 18,
   "id": "f7c6a33d",
   "metadata": {},
   "outputs": [
    {
     "name": "stdout",
     "output_type": "stream",
     "text": [
      "랜덤포레스트 훈련 정확도는 96% 입니다.\n",
      "랜덤포레스트 테스트 정확도는 96% 입니다.\n"
     ]
    }
   ],
   "source": [
    "from sklearn.preprocessing import MinMaxScaler\n",
    "from sklearn.model_selection import train_test_split\n",
    "from sklearn.ensemble import RandomForestClassifier\n",
    "\n",
    "# Total의 RandomForest\n",
    "X_train, X_test, Y_train, Y_test = train_test_split(X,Y, test_size = 0.3, random_state = 5)\n",
    "\n",
    "# MinMaxScaler로 스케일링\n",
    "scaler = MinMaxScaler()\n",
    "scaler.fit(X_train)\n",
    "\n",
    "X_train_MinMax = scaler.transform(X_train)\n",
    "X_test_MinMax = scaler.transform(X_test)\n",
    "\n",
    "# RandomForest 설정\n",
    "rf = RandomForestClassifier(max_depth = 4,\n",
    "                                n_estimators=200)\n",
    "rf.fit(X_train_MinMax, Y_train['SCALE'].ravel())\n",
    "\n",
    "# 예측값\n",
    "pred_rf = rf.predict(X_test_MinMax)\n",
    "\n",
    "#정확도 계산\n",
    "rf_train_score = rf.score(X_train_MinMax, Y_train['SCALE'].ravel())\n",
    "rf_test_score = rf.score(X_test_MinMax, Y_test['SCALE'].ravel())\n",
    "print(f'랜덤포레스트 훈련 정확도는 {int(round(rf_train_score,2)*100)}% 입니다.')\n",
    "print(f'랜덤포레스트 테스트 정확도는 {int(round(rf_test_score,2)*100)}% 입니다.')"
   ]
  },
  {
   "cell_type": "code",
   "execution_count": 19,
   "id": "ce5bc1db",
   "metadata": {},
   "outputs": [
    {
     "name": "stdout",
     "output_type": "stream",
     "text": [
      "랜덤포레스트 훈련 정확도는 97% 입니다.\n",
      "랜덤포레스트 테스트 정확도는 95% 입니다.\n"
     ]
    }
   ],
   "source": [
    "# C0의 RandomForest\n",
    "X_train, X_test, Y_train, Y_test = train_test_split(c0_X,c0_Y, test_size = 0.3, random_state = 5)\n",
    "\n",
    "# MinMaxScaler로 스케일링\n",
    "scaler = MinMaxScaler()\n",
    "scaler.fit(X_train)\n",
    "\n",
    "X_train_MinMax = scaler.transform(X_train)\n",
    "X_test_MinMax = scaler.transform(X_test)\n",
    "\n",
    "# RandomForest 설정\n",
    "c0_rf = RandomForestClassifier(max_depth = 5,\n",
    "                                n_estimators=200)\n",
    "c0_rf.fit(X_train_MinMax, Y_train['SCALE'].ravel())\n",
    "\n",
    "# 예측값\n",
    "pred_c0_rf = c0_rf.predict(X_test_MinMax)\n",
    "\n",
    "#정확도 계산\n",
    "c0_rf_train_score = c0_rf.score(X_train_MinMax, Y_train['SCALE'].ravel())\n",
    "c0_rf_test_score = c0_rf.score(X_test_MinMax, Y_test['SCALE'].ravel())\n",
    "print(f'랜덤포레스트 훈련 정확도는 {int(round(c0_rf_train_score,2)*100)}% 입니다.')\n",
    "print(f'랜덤포레스트 테스트 정확도는 {int(round(c0_rf_test_score,2)*100)}% 입니다.')"
   ]
  },
  {
   "cell_type": "code",
   "execution_count": 20,
   "id": "1a24f304",
   "metadata": {},
   "outputs": [
    {
     "name": "stdout",
     "output_type": "stream",
     "text": [
      "랜덤포레스트 훈련 정확도는 96% 입니다.\n",
      "랜덤포레스트 테스트 정확도는 97% 입니다.\n"
     ]
    }
   ],
   "source": [
    "# C0 제외한 나머지의 RandomForest\n",
    "X_train, X_test, Y_train, Y_test = train_test_split(c0_except_X,c0_except_Y, test_size = 0.3, random_state = 5)\n",
    "\n",
    "# MinMaxScaler로 스케일링\n",
    "scaler = MinMaxScaler()\n",
    "scaler.fit(X_train)\n",
    "\n",
    "X_train_MinMax = scaler.transform(X_train)\n",
    "X_test_MinMax = scaler.transform(X_test)\n",
    "\n",
    "# RandomForest 설정\n",
    "c0_except_rf = RandomForestClassifier(max_depth = 3,\n",
    "                                n_estimators=200)\n",
    "c0_except_rf.fit(X_train_MinMax, Y_train['SCALE'].ravel())\n",
    "\n",
    "# 예측값\n",
    "pred_rf = c0_except_rf.predict(X_test_MinMax)\n",
    "\n",
    "#정확도 계산\n",
    "c0_except_rf_train_score = c0_except_rf.score(X_train_MinMax, Y_train['SCALE'].ravel())\n",
    "c0_except_rf_test_score = c0_except_rf.score(X_test_MinMax, Y_test['SCALE'].ravel())\n",
    "print(f'랜덤포레스트 훈련 정확도는 {int(round(c0_except_rf_train_score,2)*100)}% 입니다.')\n",
    "print(f'랜덤포레스트 테스트 정확도는 {int(round(c0_except_rf_test_score,2)*100)}% 입니다.')"
   ]
  },
  {
   "cell_type": "code",
   "execution_count": 21,
   "id": "73d10d63",
   "metadata": {},
   "outputs": [
    {
     "name": "stdout",
     "output_type": "stream",
     "text": [
      "SVM 훈련 정확도는 95% 입니다.\n",
      "SVM 테스트 정확도는 90% 입니다.\n"
     ]
    },
    {
     "name": "stderr",
     "output_type": "stream",
     "text": [
      "c:\\ProgramData\\Anaconda3\\lib\\site-packages\\sklearn\\utils\\validation.py:993: DataConversionWarning: A column-vector y was passed when a 1d array was expected. Please change the shape of y to (n_samples, ), for example using ravel().\n",
      "  y = column_or_1d(y, warn=True)\n"
     ]
    }
   ],
   "source": [
    "# Total의 SVM\n",
    "from sklearn.preprocessing import StandardScaler\n",
    "from sklearn.svm import SVC\n",
    "\n",
    "X_train, X_test, Y_train, Y_test = train_test_split(X,Y, test_size = 0.3, random_state = 5)\n",
    "\n",
    " # StandardScaler로 스케일링\n",
    "scaler = StandardScaler()\n",
    "scaler.fit(X_train)\n",
    " \n",
    "X_train_std = scaler.transform(X_train)\n",
    "X_test_std = scaler.transform(X_test)\n",
    "\n",
    "# SVM 설정\n",
    "T_svc_model = SVC(kernel = 'rbf', C = 5, gamma = 0.1)\n",
    "T_svc_model.fit(X_train_std, Y_train)\n",
    "\n",
    "# 예측값\n",
    "pred_SVC = T_svc_model.predict(X_test_std)\n",
    "\n",
    "#정확도 계산\n",
    "T_svc_train_score = T_svc_model.score(X_train_std, Y_train['SCALE'].ravel())\n",
    "T_svc_test_score = T_svc_model.score(X_test_std, Y_test['SCALE'].ravel())\n",
    "print(f'SVM 훈련 정확도는 {int(round(T_svc_train_score,2)*100)}% 입니다.')\n",
    "print(f'SVM 테스트 정확도는 {int(round(T_svc_test_score,2)*100)}% 입니다.')"
   ]
  },
  {
   "cell_type": "code",
   "execution_count": 28,
   "id": "97307622",
   "metadata": {},
   "outputs": [
    {
     "name": "stdout",
     "output_type": "stream",
     "text": [
      "SVM 훈련 정확도는 95% 입니다.\n",
      "SVM 테스트 정확도는 86% 입니다.\n"
     ]
    },
    {
     "name": "stderr",
     "output_type": "stream",
     "text": [
      "c:\\ProgramData\\Anaconda3\\lib\\site-packages\\sklearn\\utils\\validation.py:993: DataConversionWarning: A column-vector y was passed when a 1d array was expected. Please change the shape of y to (n_samples, ), for example using ravel().\n",
      "  y = column_or_1d(y, warn=True)\n"
     ]
    }
   ],
   "source": [
    "# C0의 svm\n",
    "X_train, X_test, Y_train, Y_test = train_test_split(c0_X,c0_Y, test_size = 0.3, random_state = 5)\n",
    "\n",
    "# StandardScaler로 스케일링\n",
    "scaler = StandardScaler()\n",
    "scaler.fit(X_train)\n",
    " \n",
    "X_train_std = scaler.transform(X_train)\n",
    "X_test_std = scaler.transform(X_test)\n",
    "\n",
    "# SVM 설정\n",
    "c0_svc_model = SVC(kernel = 'rbf', C = 3, gamma = 0.1)\n",
    "c0_svc_model.fit(X_train_std, Y_train)\n",
    "\n",
    "# 예측값\n",
    "pred_SVC = c0_svc_model.predict(X_test_std)\n",
    "\n",
    "#정확도 계산\n",
    "c0_svc_train_score = c0_svc_model.score(X_train_std, Y_train['SCALE'].ravel())\n",
    "c0_svc_test_score = c0_svc_model.score(X_test_std, Y_test['SCALE'].ravel())\n",
    "print(f'SVM 훈련 정확도는 {int(round(c0_svc_train_score,2)*100)}% 입니다.')\n",
    "print(f'SVM 테스트 정확도는 {int(round(c0_svc_test_score,2)*100)}% 입니다.')"
   ]
  },
  {
   "cell_type": "code",
   "execution_count": null,
   "id": "a12aa887",
   "metadata": {},
   "outputs": [
    {
     "name": "stdout",
     "output_type": "stream",
     "text": [
      "SVM 훈련 정확도는 97% 입니다.\n",
      "SVM 테스트 정확도는 97% 입니다.\n"
     ]
    },
    {
     "name": "stderr",
     "output_type": "stream",
     "text": [
      "c:\\ProgramData\\Anaconda3\\lib\\site-packages\\sklearn\\utils\\validation.py:993: DataConversionWarning: A column-vector y was passed when a 1d array was expected. Please change the shape of y to (n_samples, ), for example using ravel().\n",
      "  y = column_or_1d(y, warn=True)\n"
     ]
    }
   ],
   "source": [
    "# C0의 제외한 나머지의 SVM\n",
    "X_train, X_test, Y_train, Y_test = train_test_split(c0_except_X,c0_except_Y, test_size = 0.3, random_state = 5)\n",
    "\n",
    "# StandardScaler로 스케일링\n",
    "scaler = StandardScaler()\n",
    "scaler.fit(X_train)\n",
    " \n",
    "X_train_std = scaler.transform(X_train)\n",
    "X_test_std = scaler.transform(X_test)\n",
    "\n",
    "# SVM 설정\n",
    "c0_except_svc_model = SVC(kernel = 'rbf', C = 2, gamma = 0.1)\n",
    "c0_except_svc_model.fit(X_train_std, Y_train)\n",
    "\n",
    "# 예측값\n",
    "pred_SVC = c0_except_svc_model.predict(X_test_std)\n",
    "\n",
    "#정확도 계산\n",
    "c0_except_svc_train_score = c0_except_svc_model.score(X_train_std, Y_train['SCALE'].ravel())\n",
    "c0_except_svc_test_score = c0_except_svc_model.score(X_test_std, Y_test['SCALE'].ravel())\n",
    "print(f'SVM 훈련 정확도는 {int(round(c0_except_svc_train_score,2)*100)}% 입니다.')\n",
    "print(f'SVM 테스트 정확도는 {int(round(c0_except_svc_test_score,2)*100)}% 입니다.')"
   ]
  },
  {
   "cell_type": "code",
   "execution_count": null,
   "id": "de365277",
   "metadata": {},
   "outputs": [],
   "source": []
  }
 ],
 "metadata": {
  "kernelspec": {
   "display_name": "Python 3 (ipykernel)",
   "language": "python",
   "name": "python3"
  },
  "language_info": {
   "codemirror_mode": {
    "name": "ipython",
    "version": 3
   },
   "file_extension": ".py",
   "mimetype": "text/x-python",
   "name": "python",
   "nbconvert_exporter": "python",
   "pygments_lexer": "ipython3",
   "version": "3.9.12"
  },
  "toc": {
   "base_numbering": 1,
   "nav_menu": {},
   "number_sections": true,
   "sideBar": true,
   "skip_h1_title": false,
   "title_cell": "Table of Contents",
   "title_sidebar": "Contents",
   "toc_cell": false,
   "toc_position": {},
   "toc_section_display": true,
   "toc_window_display": false
  },
  "vscode": {
   "interpreter": {
    "hash": "ad2bdc8ecc057115af97d19610ffacc2b4e99fae6737bb82f5d7fb13d2f2c186"
   }
  }
 },
 "nbformat": 4,
 "nbformat_minor": 5
}
